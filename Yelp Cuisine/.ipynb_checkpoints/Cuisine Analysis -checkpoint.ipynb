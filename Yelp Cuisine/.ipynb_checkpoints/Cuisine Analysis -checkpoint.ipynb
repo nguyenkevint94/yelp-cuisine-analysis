{
 "cells": [
  {
   "cell_type": "markdown",
   "metadata": {},
   "source": [
    "# Dependencies"
   ]
  },
  {
   "cell_type": "code",
   "execution_count": null,
   "metadata": {},
   "outputs": [],
   "source": [
    "# Dependencies\n",
    "import pandas as pd\n",
    "import re\n",
    "import requests\n",
    "import math \n",
    "import plotly\n",
    "import plotly.plotly as py\n",
    "import plotly.graph_objs as go\n",
    "from pprint import pprint\n",
    "from config import api_key, plotly_key\n",
    "from yelpapi import YelpAPI"
   ]
  },
  {
   "cell_type": "markdown",
   "metadata": {},
   "source": [
    "# Ideas\n",
    "<ul><li>Average rating vs. category\n",
    "<li>Average rating vs. price rating\n",
    "<li>Number of restaurant categories per city \n",
    "<li>Review Count vs. city "
   ]
  },
  {
   "cell_type": "markdown",
   "metadata": {},
   "source": [
    "# Useful Links \n",
    "<ul><li><a href=\"https://alcidanalytics.com/p/geographic-heatmap-in-python\">Heat maps</a>"
   ]
  },
  {
   "cell_type": "markdown",
   "metadata": {},
   "source": [
    "# API Call"
   ]
  },
  {
   "cell_type": "code",
   "execution_count": null,
   "metadata": {},
   "outputs": [],
   "source": [
    "# API call to Yelp API\n",
    "yelp_api = YelpAPI(api_key)\n",
    "# Input string for location search\n",
    "input_string = input(\"Search query: \")\n",
    "api_call = yelp_api.search_query(location=input_string, limit=50)\n",
    "\n",
    "# API Call to Plotly \n",
    "plotly.tools.set_credentials_file(username='nguyenkevint94', api_key=plotly_key)\n",
    "\n",
    "# Delete hashtag to view the contents of api_call\n",
    "pprint(api_call)"
   ]
  },
  {
   "cell_type": "code",
   "execution_count": null,
   "metadata": {},
   "outputs": [],
   "source": [
    "# Lists\n",
    "business_names_list = []\n",
    "categories_list = []\n",
    "street_address_list = []\n",
    "city_list = []\n",
    "country_list = []\n",
    "lat_list = []\n",
    "lon_list = []\n",
    "ratings_list = []\n",
    "review_count_list = []\n",
    "price_ratings = []\n",
    "\n",
    "# Looping through each business in the call\n",
    "for businesses in api_call[\"businesses\"]:\n",
    "    try:\n",
    "        # Name\n",
    "        name = businesses[\"name\"]\n",
    "        # print(f\"Successfully found business name: {name}\")\n",
    "\n",
    "        # Category \n",
    "        category = businesses[\"categories\"][0][\"alias\"]\n",
    "        # print(f\"Successfully found category: {category}\")\n",
    "\n",
    "        # Street Address\n",
    "        street_address = businesses[\"location\"][\"address1\"]\n",
    "        # print(f\"Successfully found street address: {street_address}\")\n",
    "\n",
    "        # City\n",
    "        city = businesses[\"location\"][\"city\"]\n",
    "        # print(f\"Successfully found city: {city}\")\n",
    "\n",
    "        # Country\n",
    "        country = businesses[\"location\"][\"country\"]\n",
    "        # print(f\"Successfully found country: {country}\")\n",
    "        \n",
    "        # Latitude\n",
    "        lat = businesses[\"coordinates\"][\"latitude\"]\n",
    "        # print(f\"Successfully found latitude: {lat}\")\n",
    "        \n",
    "        #Longitude \n",
    "        lon = businesses[\"coordinates\"][\"longitude\"]\n",
    "        # print(f\"Successfully found longitude: {lon}\")\n",
    "\n",
    "        # Price rating\n",
    "        # NOTE: Some places do not have a price rating (ie. $, $$, $$$)\n",
    "        price = businesses[\"price\"]\n",
    "        # print(f\"Successfully found price rating: {price}\")\n",
    "\n",
    "        # Ratings\n",
    "        rating = businesses[\"rating\"]\n",
    "        # print(f\"Successfully found rating: {rating}\")\n",
    "\n",
    "        # Review count\n",
    "        review_count = businesses[\"review_count\"]\n",
    "        # print(f\"Successfully found review counts: {review_count}\")\n",
    "        \n",
    "        # Appends\n",
    "        # Tried putting appends after each section, adding them towards the end made it work \n",
    "        # with no error since it passes those without a price rating\n",
    "        business_names_list.append(name) \n",
    "        categories_list.append(category)\n",
    "        street_address_list.append(street_address)\n",
    "        city_list.append(city)\n",
    "        country_list.append(country)\n",
    "        lat_list.append(lat)\n",
    "        lon_list.append(lon)\n",
    "        price_ratings.append(price)\n",
    "        ratings_list.append(rating)\n",
    "        review_count_list.append(review_count)\n",
    "        \n",
    "        # print(\"- - - - - - - - - - - - - - - - - - - - - -\")\n",
    "    except Exception:\n",
    "        pass"
   ]
  },
  {
   "cell_type": "markdown",
   "metadata": {},
   "source": [
    "# Yelp DataFrame"
   ]
  },
  {
   "cell_type": "code",
   "execution_count": null,
   "metadata": {},
   "outputs": [],
   "source": [
    "# Dictionary for DataFrame\n",
    "business_details_dict = ({\"Name\": business_names_list,\n",
    "                          \"Category\": categories_list,\n",
    "                          \"Street\": street_address_list,\n",
    "                          \"City\": city_list,\n",
    "                          \"Country\": country_list,\n",
    "                          \"Latitude\": lat_list,\n",
    "                          \"Longitude\": lon_list,\n",
    "                          \"Rating\": ratings_list,\n",
    "                          \"Review Count\": review_count_list,\n",
    "                          \"$\": price_ratings})\n",
    "\n",
    "# Dictionary to DataFrame\n",
    "yelp_df = pd.DataFrame(business_details_dict)\n",
    "yelp_df.head()"
   ]
  },
  {
   "cell_type": "markdown",
   "metadata": {},
   "source": [
    "# Sorting by Review Count"
   ]
  },
  {
   "cell_type": "code",
   "execution_count": null,
   "metadata": {},
   "outputs": [],
   "source": [
    "sorted_df_reviews = yelp_df.sort_values(by=[\"Review Count\"], ascending=False)\n",
    "sorted_df_reviews"
   ]
  },
  {
   "cell_type": "markdown",
   "metadata": {},
   "source": [
    "# Category Shares"
   ]
  },
  {
   "cell_type": "code",
   "execution_count": null,
   "metadata": {},
   "outputs": [],
   "source": [
    "# Counting up number in each category\n",
    "biz_categories = yelp_df.groupby(\"Category\").count()\n",
    "# Resetting the index to Category\n",
    "biz_categories.reset_index(\"Category\", inplace=True)\n",
    "categories = biz_categories[\"Category\"]\n",
    "\n",
    "# Labels for each category to be used in Plotly \n",
    "labels = categories\n",
    "\n",
    "# Values for each category to be used in Plotly\n",
    "category_count = biz_categories[\"Name\"]\n",
    "values = category_count\n",
    "values\n",
    "\n",
    "# Setting up arguments for Plotly pie chart \n",
    "trace = go.Pie(labels=labels, values=values)\n",
    "\n",
    "py.iplot([trace], filename= \"Pie_Chart_Categories\")"
   ]
  },
  {
   "cell_type": "markdown",
   "metadata": {},
   "source": [
    "# Price Comparisons"
   ]
  },
  {
   "cell_type": "code",
   "execution_count": null,
   "metadata": {},
   "outputs": [],
   "source": [
    "# Grouping price ratings ($)\n",
    "price_groups = yelp_df.groupby(\"$\").count()\n",
    "price_groups.reset_index(\"$\", inplace=True)\n",
    "\n",
    "labels = price_groups[\"$\"]\n",
    "values = price_groups[\"Name\"]\n",
    "\n",
    "trace = go.Pie(labels=labels, values=values)\n",
    "\n",
    "py.iplot([trace], filename= \"Pie_Chart_Price_Categories\")"
   ]
  },
  {
   "cell_type": "markdown",
   "metadata": {},
   "source": [
    "# Average Review Count vs. Category"
   ]
  },
  {
   "cell_type": "code",
   "execution_count": null,
   "metadata": {},
   "outputs": [],
   "source": [
    "# Grouping categories \n",
    "average_reviews = yelp_df.groupby(\"Category\").mean()\n",
    "average_reviews.reset_index(\"Category\")\n",
    "\n",
    "# Gathering top 5 categories with the highest number of reviews\n",
    "top_five = average_reviews.nlargest(10,\"Review Count\")\n",
    "top_five.reset_index(\"Category\", inplace=True)\n",
    "# Category names\n",
    "categories = top_five[\"Category\"]\n",
    "\n",
    "# Category review counts\n",
    "review_count = top_five[\"Review Count\"]\n",
    "\n",
    "# Setting up the bar chart\n",
    "trace = go.Bar(\n",
    "    x=categories,\n",
    "    y=review_count,\n",
    "    text=categories,\n",
    "    marker=dict(\n",
    "        color=\"rgb(158, 202, 225)\",\n",
    "        line=dict(\n",
    "            color=\"rgb(8, 48,107)\",\n",
    "            width=1.5,\n",
    "        )\n",
    "    ),\n",
    "    opacity=0.6\n",
    ")\n",
    "\n",
    "data=[trace]\n",
    "layout=go.Layout(\n",
    "    title=\"Top 10 Categories by Average Review Count\",\n",
    ")\n",
    "\n",
    "# Bar chart \n",
    "fig = go.Figure(data=data, layout=layout)\n",
    "py.iplot(fig, filename=\"top-10-categories-by-average-review-count\")"
   ]
  },
  {
   "cell_type": "code",
   "execution_count": null,
   "metadata": {},
   "outputs": [],
   "source": []
  }
 ],
 "metadata": {
  "kernelspec": {
   "display_name": "Python 3",
   "language": "python",
   "name": "python3"
  },
  "language_info": {
   "codemirror_mode": {
    "name": "ipython",
    "version": 3
   },
   "file_extension": ".py",
   "mimetype": "text/x-python",
   "name": "python",
   "nbconvert_exporter": "python",
   "pygments_lexer": "ipython3",
   "version": "3.6.7"
  }
 },
 "nbformat": 4,
 "nbformat_minor": 2
}
